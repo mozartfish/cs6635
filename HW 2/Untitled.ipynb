{
 "cells": [
  {
   "cell_type": "code",
   "execution_count": 6,
   "metadata": {},
   "outputs": [],
   "source": [
    "import numpy as np\n",
    "import pandas as pd\n",
    "import matplotlib.pyplot as plt\n",
    "from collections import Counter"
   ]
  },
  {
   "cell_type": "code",
   "execution_count": 20,
   "metadata": {},
   "outputs": [
    {
     "name": "stdout",
     "output_type": "stream",
     "text": [
      "15\n"
     ]
    }
   ],
   "source": [
    "# Part 1: Load the Data\n",
    "# Question 1: Visualization of Statistics for 1-D Data\n",
    "file = open(\"data/CS6635-Assignment2-P1Q1-Data.txt\",\"r\")\n",
    "data = []\n",
    "for line in file:\n",
    "    tokens = int(line.replace(\"\\n\", \"\"))\n",
    "    data.append(tokens) \n",
    "file.close()\n",
    "\n",
    "frequency = Counter(data)\n",
    "\n",
    "missing_data = []\n",
    "\n",
    "for i in range(1, 101):\n",
    "    if i not in frequency.keys():\n",
    "        missing_data.append(i)\n",
    "\n",
    "print(len(missing_data))"
   ]
  },
  {
   "cell_type": "code",
   "execution_count": null,
   "metadata": {},
   "outputs": [],
   "source": []
  }
 ],
 "metadata": {
  "kernelspec": {
   "display_name": "Python 3",
   "language": "python",
   "name": "python3"
  },
  "language_info": {
   "codemirror_mode": {
    "name": "ipython",
    "version": 3
   },
   "file_extension": ".py",
   "mimetype": "text/x-python",
   "name": "python",
   "nbconvert_exporter": "python",
   "pygments_lexer": "ipython3",
   "version": "3.8.5"
  }
 },
 "nbformat": 4,
 "nbformat_minor": 4
}
