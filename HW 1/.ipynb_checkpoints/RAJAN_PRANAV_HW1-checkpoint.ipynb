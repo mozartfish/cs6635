{
 "cells": [
  {
   "cell_type": "code",
   "execution_count": 3,
   "metadata": {},
   "outputs": [],
   "source": [
    "# libraries and packages\n",
    "import numpy as np\n",
    "import pandas as pd\n",
    "import altair as alt\n",
    "import matplotlib.pyplot as plt\n",
    "from random import seed\n",
    "from random import randint\n",
    "from random import gauss\n",
    "from array import array"
   ]
  },
  {
   "cell_type": "code",
   "execution_count": 4,
   "metadata": {},
   "outputs": [
    {
     "data": {
      "text/plain": [
       "{'whiskers': [<matplotlib.lines.Line2D at 0x7f3afef1e910>,\n",
       "  <matplotlib.lines.Line2D at 0x7f3afef1ec70>],\n",
       " 'caps': [<matplotlib.lines.Line2D at 0x7f3afeeaa310>,\n",
       "  <matplotlib.lines.Line2D at 0x7f3afeeaa640>],\n",
       " 'boxes': [<matplotlib.lines.Line2D at 0x7f3afef1e8e0>],\n",
       " 'medians': [<matplotlib.lines.Line2D at 0x7f3afeeaa970>],\n",
       " 'fliers': [<matplotlib.lines.Line2D at 0x7f3afef1e880>],\n",
       " 'means': []}"
      ]
     },
     "execution_count": 4,
     "metadata": {},
     "output_type": "execute_result"
    },
    {
     "data": {
      "image/png": "[encoded data removed]",
      "text/plain": [
       "<Figure size 432x288 with 1 Axes>"
      ]
     },
     "metadata": {
      "needs_background": "light"
     },
     "output_type": "display_data"
    }
   ],
   "source": [
    "# PART 1: Generate your own data and Visualize it\n",
    "\n",
    "# 1) \n",
    "\n",
    "# the data\n",
    "data = [i for i in range(1, 201)]\n",
    "\n",
    "\n",
    "# visualization\n",
    "fig1, ax1 = plt.subplots()\n",
    "ax1.set_title('Boxplot of the numbers 1 to 200')\n",
    "ax1.boxplot(data)\n"
   ]
  },
  {
   "cell_type": "code",
   "execution_count": 5,
   "metadata": {},
   "outputs": [
    {
     "data": {
      "image/png": "[encoded data removed]",
      "text/plain": [
       "<Figure size 432x288 with 1 Axes>"
      ]
     },
     "metadata": {
      "needs_background": "light"
     },
     "output_type": "display_data"
    }
   ],
   "source": [
    "#2\n",
    "\n",
    "# data\n",
    "data = [randint(1, 10000) for i in range(10000)]\n",
    "\n",
    "# visualization\n",
    "plt.hist(data, bins = 20)\n",
    "plt.title(\"Histogram of the frequency of the numbers in the range of 1-10000 using 20 bins\")\n",
    "plt.show()\n",
    "\n"
   ]
  },
  {
   "cell_type": "code",
   "execution_count": 6,
   "metadata": {},
   "outputs": [
    {
     "name": "stdout",
     "output_type": "stream",
     "text": [
      "The data: [73.52722850391248, 65.53359565896466, 77.47780998316297, 70.56919135117548, 82.27853640296352, 71.87780865942969, 71.48991684283455, 67.30042158753304, 77.36892593956027, 61.89802282445226, 53.88605121480008, 69.84488652577943, 65.16270607395077, 77.95197401619596, 68.89074836490931, 68.8155359791667, 78.35826027907494, 43.41721075471426, 93.47673446075976, 83.12265287834137, 86.2868131167998, 79.13715941056883, 79.00876991877912, 61.718729120772736, 58.11526180049395, 63.23952426428589, 82.67427765437469, 85.09634860542133, 70.24835180167327, 58.0894450139686, 89.60417269991032, 84.33978709798478, 56.41705520953433, 55.05930475931972, 94.60329386249663, 77.67363254073906, 43.789773593047386, 57.21778130706831, 74.2239260619214, 60.15704046498877, 48.673359637625495, 61.405066170777836, 78.15575167406485, 88.29703664046504, 66.85328273800553, 40.5871586106826, 83.03180952463869, 75.43881964158747, 72.40740119601968, 65.51130296753753, 49.80793160828742, 82.99157587909083, 85.95146770785502, 87.38180558695149, 77.59445825774655, 76.39009836529581, 44.0179052421643, 80.93828894710185, 74.45495743742201, 88.39081520038857, 65.37065223370377, 73.88849537743378, 65.84150187639358, 62.70986015792017, 86.35585218077718, 70.41560829787272, 75.2040377925347, 78.4513972093339, 65.95567411118265, 64.57216753169003, 55.64979867626693, 75.31268584164997, 54.66587370973397, 49.44475801705192, 60.35054842745576, 77.68947869466953, 64.84241980300149, 72.09006994137027, 59.15961702231682, 79.58081608028702, 71.98480023318889, 89.2557623544279, 75.32902798848406, 48.54905287044382, 46.11226372921743, 66.26114345804253, 88.02409086491588, 82.40882494077253, 64.80424118432092, 70.28123588110847, 83.17677041529113, 60.3666351824796, 57.96867316427082, 82.79811442200526, 70.33199283596342, 75.2861555303858, 79.15984386504365, 74.08457780033707, 77.9698405963306, 78.36053344016872]\n"
     ]
    },
    {
     "ename": "IsADirectoryError",
     "evalue": "[Errno 21] Is a directory: 'data'",
     "output_type": "error",
     "traceback": [
      "\u001b[0;31m---------------------------------------------------------------------------\u001b[0m",
      "\u001b[0;31mIsADirectoryError\u001b[0m                         Traceback (most recent call last)",
      "\u001b[0;32m<ipython-input-6-b9cd5acb93e2>\u001b[0m in \u001b[0;36m<module>\u001b[0;34m\u001b[0m\n\u001b[1;32m     10\u001b[0m \u001b[0;34m\u001b[0m\u001b[0m\n\u001b[1;32m     11\u001b[0m \u001b[0;31m# write data to a binary file\u001b[0m\u001b[0;34m\u001b[0m\u001b[0;34m\u001b[0m\u001b[0;34m\u001b[0m\u001b[0m\n\u001b[0;32m---> 12\u001b[0;31m \u001b[0mf\u001b[0m \u001b[0;34m=\u001b[0m \u001b[0mopen\u001b[0m\u001b[0;34m(\u001b[0m\u001b[0;34m\"data\"\u001b[0m\u001b[0;34m,\u001b[0m \u001b[0;34m\"wb\"\u001b[0m\u001b[0;34m)\u001b[0m\u001b[0;34m\u001b[0m\u001b[0;34m\u001b[0m\u001b[0m\n\u001b[0m\u001b[1;32m     13\u001b[0m \u001b[0mbyte_data\u001b[0m \u001b[0;34m=\u001b[0m \u001b[0marray\u001b[0m\u001b[0;34m(\u001b[0m\u001b[0;34m'd'\u001b[0m\u001b[0;34m,\u001b[0m \u001b[0mdata\u001b[0m\u001b[0;34m)\u001b[0m\u001b[0;34m\u001b[0m\u001b[0;34m\u001b[0m\u001b[0m\n\u001b[1;32m     14\u001b[0m \u001b[0mf\u001b[0m\u001b[0;34m.\u001b[0m\u001b[0mwrite\u001b[0m\u001b[0;34m(\u001b[0m\u001b[0mbyte_data\u001b[0m\u001b[0;34m)\u001b[0m\u001b[0;34m\u001b[0m\u001b[0;34m\u001b[0m\u001b[0m\n",
      "\u001b[0;31mIsADirectoryError\u001b[0m: [Errno 21] Is a directory: 'data'"
     ]
    }
   ],
   "source": [
    "# 3\n",
    "\n",
    "# gaussian variables chosen\n",
    "mu = 70\n",
    "sigma = 12\n",
    "\n",
    "# data\n",
    "data = [gauss(mu, sigma) for i in range(1, 101)]\n",
    "print(f\"The data: {data}\")\n",
    "\n",
    "# write data to a binary file\n",
    "f = open(\"gauss_data\", \"wb\")\n",
    "byte_data = array('d', data)\n",
    "f.write(byte_data)\n",
    "f.close()\n",
    "\n",
    "# visualization\n",
    "plt.title(\"Line Graph of 100 random numbers Gaussian Distributed between 1 and 100\")\n",
    "plt.plot(data)\n",
    "plt.show()\n",
    "\n"
   ]
  },
  {
   "cell_type": "code",
   "execution_count": 7,
   "metadata": {},
   "outputs": [
    {
     "ename": "IsADirectoryError",
     "evalue": "[Errno 21] Is a directory: 'data'",
     "output_type": "error",
     "traceback": [
      "\u001b[0;31m---------------------------------------------------------------------------\u001b[0m",
      "\u001b[0;31mIsADirectoryError\u001b[0m                         Traceback (most recent call last)",
      "\u001b[0;32m<ipython-input-7-2d06429cb4b7>\u001b[0m in \u001b[0;36m<module>\u001b[0;34m\u001b[0m\n\u001b[1;32m      2\u001b[0m \u001b[0;34m\u001b[0m\u001b[0m\n\u001b[1;32m      3\u001b[0m \u001b[0;31m# read file and get data\u001b[0m\u001b[0;34m\u001b[0m\u001b[0;34m\u001b[0m\u001b[0;34m\u001b[0m\u001b[0m\n\u001b[0;32m----> 4\u001b[0;31m \u001b[0mf\u001b[0m \u001b[0;34m=\u001b[0m \u001b[0mopen\u001b[0m\u001b[0;34m(\u001b[0m\u001b[0;34m'data'\u001b[0m\u001b[0;34m,\u001b[0m \u001b[0;34m'rb'\u001b[0m\u001b[0;34m)\u001b[0m\u001b[0;34m\u001b[0m\u001b[0;34m\u001b[0m\u001b[0m\n\u001b[0m\u001b[1;32m      5\u001b[0m \u001b[0mdata\u001b[0m \u001b[0;34m=\u001b[0m \u001b[0marray\u001b[0m\u001b[0;34m(\u001b[0m\u001b[0;34m'd'\u001b[0m\u001b[0;34m)\u001b[0m\u001b[0;34m\u001b[0m\u001b[0;34m\u001b[0m\u001b[0m\n\u001b[1;32m      6\u001b[0m \u001b[0mdata\u001b[0m\u001b[0;34m.\u001b[0m\u001b[0mfromstring\u001b[0m\u001b[0;34m(\u001b[0m\u001b[0mf\u001b[0m\u001b[0;34m.\u001b[0m\u001b[0mread\u001b[0m\u001b[0;34m(\u001b[0m\u001b[0;34m)\u001b[0m\u001b[0;34m)\u001b[0m\u001b[0;34m\u001b[0m\u001b[0;34m\u001b[0m\u001b[0m\n",
      "\u001b[0;31mIsADirectoryError\u001b[0m: [Errno 21] Is a directory: 'data'"
     ]
    }
   ],
   "source": [
    "# 4)\n",
    "\n",
    "# read file and get data\n",
    "f = open('data', 'rb')\n",
    "data = array('d')\n",
    "data.fromstring(f.read())\n",
    "print(f\"The data: {data}\")\n",
    "\n",
    "# find the range of the data\n",
    "data_min = min(data)\n",
    "data_max = max(data)\n",
    "\n",
    "print(f\"Data Min Value: {data_min}\")\n",
    "print(f\"Data Max Value: {data_max}\")\n",
    "\n",
    "# visualization\n",
    "plt.title(\"Histogram of 100 random number frequency Gaussian Distributed between 1 and 100 using 7 bins\")\n",
    "plt.hist(data, 7, range = (1, 101))\n",
    "plt.show()\n"
   ]
  },
  {
   "cell_type": "code",
   "execution_count": null,
   "metadata": {},
   "outputs": [],
   "source": []
  },
  {
   "cell_type": "code",
   "execution_count": null,
   "metadata": {},
   "outputs": [],
   "source": []
  },
  {
   "cell_type": "code",
   "execution_count": null,
   "metadata": {},
   "outputs": [],
   "source": []
  },
  {
   "cell_type": "code",
   "execution_count": null,
   "metadata": {},
   "outputs": [],
   "source": []
  },
  {
   "cell_type": "code",
   "execution_count": null,
   "metadata": {},
   "outputs": [],
   "source": []
  }
 ],
 "metadata": {
  "kernelspec": {
   "display_name": "Python 3",
   "language": "python",
   "name": "python3"
  },
  "language_info": {
   "codemirror_mode": {
    "name": "ipython",
    "version": 3
   },
   "file_extension": ".py",
   "mimetype": "text/x-python",
   "name": "python",
   "nbconvert_exporter": "python",
   "pygments_lexer": "ipython3",
   "version": "3.8.5"
  }
 },
 "nbformat": 4,
 "nbformat_minor": 4
}
